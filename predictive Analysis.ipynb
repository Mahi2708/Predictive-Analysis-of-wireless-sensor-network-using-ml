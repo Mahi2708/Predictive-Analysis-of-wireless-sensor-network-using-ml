{
 "cells": [
  {
   "cell_type": "code",
   "execution_count": 1,
   "id": "a23e486c-6da0-4cd5-845a-0c9f318813ca",
   "metadata": {},
   "outputs": [],
   "source": [
    "#dependencies\n",
    "import pandas as pd \n",
    "import seaborn as sns \n",
    "import numpy as np \n",
    "import matplotlib.pyplot as plt \n",
    "from sklearn.model_selection import train_test_split \n",
    "from sklearn.preprocessing import StandardScaler\n",
    "import statsmodels.api as sm\n",
    "import tensorflow as tf\n",
    "from tensorflow.keras.models import Sequential\n",
    "from tensorflow.keras.layers import Dense\n",
    "from sklearn.model_selection import train_test_split\n",
    " "
   ]
  },
  {
   "cell_type": "code",
   "execution_count": 2,
   "id": "a1e6939e-7390-4089-9c1d-29454d565355",
   "metadata": {},
   "outputs": [
    {
     "name": "stderr",
     "output_type": "stream",
     "text": [
      "C:\\Users\\Mahanthesh\\AppData\\Local\\Temp\\ipykernel_4800\\3743020224.py:2: DtypeWarning: Columns (5,7,8) have mixed types. Specify dtype option on import or set low_memory=False.\n",
      "  data = pd.read_csv(file_path)\n"
     ]
    },
    {
     "data": {
      "text/html": [
       "<div>\n",
       "<style scoped>\n",
       "    .dataframe tbody tr th:only-of-type {\n",
       "        vertical-align: middle;\n",
       "    }\n",
       "\n",
       "    .dataframe tbody tr th {\n",
       "        vertical-align: top;\n",
       "    }\n",
       "\n",
       "    .dataframe thead th {\n",
       "        text-align: right;\n",
       "    }\n",
       "</style>\n",
       "<table border=\"1\" class=\"dataframe\">\n",
       "  <thead>\n",
       "    <tr style=\"text-align: right;\">\n",
       "      <th></th>\n",
       "      <th>sort_id</th>\n",
       "      <th>date_d_m_y</th>\n",
       "      <th>time</th>\n",
       "      <th>sensor_id</th>\n",
       "      <th>sensor_type</th>\n",
       "      <th>temp_C</th>\n",
       "      <th>hpa_div_4</th>\n",
       "      <th>batterylevel</th>\n",
       "      <th>sensor_cycle</th>\n",
       "    </tr>\n",
       "  </thead>\n",
       "  <tbody>\n",
       "    <tr>\n",
       "      <th>0</th>\n",
       "      <td>1</td>\n",
       "      <td>5.02.2016</td>\n",
       "      <td>13:01:06</td>\n",
       "      <td>310</td>\n",
       "      <td>B</td>\n",
       "      <td>1612</td>\n",
       "      <td>24861</td>\n",
       "      <td>0</td>\n",
       "      <td>66</td>\n",
       "    </tr>\n",
       "    <tr>\n",
       "      <th>1</th>\n",
       "      <td>3</td>\n",
       "      <td>5.02.2016</td>\n",
       "      <td>13:01:16</td>\n",
       "      <td>306</td>\n",
       "      <td>B</td>\n",
       "      <td>1737</td>\n",
       "      <td>24865</td>\n",
       "      <td>0</td>\n",
       "      <td>69</td>\n",
       "    </tr>\n",
       "    <tr>\n",
       "      <th>2</th>\n",
       "      <td>6</td>\n",
       "      <td>5.02.2016</td>\n",
       "      <td>13:02:40</td>\n",
       "      <td>368</td>\n",
       "      <td>B</td>\n",
       "      <td>1941</td>\n",
       "      <td>24842</td>\n",
       "      <td>0</td>\n",
       "      <td>78</td>\n",
       "    </tr>\n",
       "    <tr>\n",
       "      <th>3</th>\n",
       "      <td>12</td>\n",
       "      <td>5.02.2016</td>\n",
       "      <td>13:03:32</td>\n",
       "      <td>367</td>\n",
       "      <td>B</td>\n",
       "      <td>1811</td>\n",
       "      <td>24834</td>\n",
       "      <td>0</td>\n",
       "      <td>78</td>\n",
       "    </tr>\n",
       "    <tr>\n",
       "      <th>4</th>\n",
       "      <td>20</td>\n",
       "      <td>5.02.2016</td>\n",
       "      <td>13:04:13</td>\n",
       "      <td>365</td>\n",
       "      <td>B</td>\n",
       "      <td>1577</td>\n",
       "      <td>24842</td>\n",
       "      <td>0</td>\n",
       "      <td>75</td>\n",
       "    </tr>\n",
       "  </tbody>\n",
       "</table>\n",
       "</div>"
      ],
      "text/plain": [
       "   sort_id date_d_m_y      time  sensor_id sensor_type temp_C  hpa_div_4  \\\n",
       "0        1  5.02.2016  13:01:06        310           B   1612      24861   \n",
       "1        3  5.02.2016  13:01:16        306           B   1737      24865   \n",
       "2        6  5.02.2016  13:02:40        368           B   1941      24842   \n",
       "3       12  5.02.2016  13:03:32        367           B   1811      24834   \n",
       "4       20  5.02.2016  13:04:13        365           B   1577      24842   \n",
       "\n",
       "  batterylevel sensor_cycle  \n",
       "0            0           66  \n",
       "1            0           69  \n",
       "2            0           78  \n",
       "3            0           78  \n",
       "4            0           75  "
      ]
     },
     "execution_count": 2,
     "metadata": {},
     "output_type": "execute_result"
    }
   ],
   "source": [
    "file_path = \"C:/Users/Mahanthesh/OneDrive/Documents/40_B_exits_c.csv\"\n",
    "data = pd.read_csv(file_path)\n",
    "\n",
    "data.head()"
   ]
  },
  {
   "cell_type": "code",
   "execution_count": 3,
   "id": "282fc8b4-6dac-4770-adbf-90d64ccb0284",
   "metadata": {},
   "outputs": [
    {
     "data": {
      "image/png": "[encoded data removed]",
      "text/plain": [
       "<Figure size 500x500 with 1 Axes>"
      ]
     },
     "metadata": {},
     "output_type": "display_data"
    }
   ],
   "source": [
    "sns.displot(data['sensor_id']);\n"
   ]
  },
  {
   "cell_type": "code",
   "execution_count": 4,
   "id": "434cd8b8-1220-4db0-b66a-e7a09ecd6166",
   "metadata": {},
   "outputs": [
    {
     "name": "stdout",
     "output_type": "stream",
     "text": [
      "<class 'pandas.core.frame.DataFrame'>\n",
      "RangeIndex: 2302977 entries, 0 to 2302976\n",
      "Data columns (total 9 columns):\n",
      " #   Column        Dtype \n",
      "---  ------        ----- \n",
      " 0   sort_id       int64 \n",
      " 1   date_d_m_y    object\n",
      " 2   time          object\n",
      " 3   sensor_id     int64 \n",
      " 4   sensor_type   object\n",
      " 5   temp_C        object\n",
      " 6   hpa_div_4     int64 \n",
      " 7   batterylevel  object\n",
      " 8   sensor_cycle  object\n",
      "dtypes: int64(3), object(6)\n",
      "memory usage: 158.1+ MB\n"
     ]
    }
   ],
   "source": [
    "data.info()"
   ]
  },
  {
   "cell_type": "code",
   "execution_count": 5,
   "id": "136da5ea-118d-4fad-a211-ffb4640c0aff",
   "metadata": {},
   "outputs": [
    {
     "data": {
      "image/png": "[encoded data removed]",
      "text/plain": [
       "<Figure size 500x500 with 1 Axes>"
      ]
     },
     "metadata": {},
     "output_type": "display_data"
    }
   ],
   "source": [
    "sns.displot(data['hpa_div_4']);"
   ]
  },
  {
   "cell_type": "code",
   "execution_count": 6,
   "id": "5998218a-dc7d-470c-8d99-87bbdfb7cc6c",
   "metadata": {},
   "outputs": [
    {
     "data": {
      "text/html": [
       "<div>\n",
       "<style scoped>\n",
       "    .dataframe tbody tr th:only-of-type {\n",
       "        vertical-align: middle;\n",
       "    }\n",
       "\n",
       "    .dataframe tbody tr th {\n",
       "        vertical-align: top;\n",
       "    }\n",
       "\n",
       "    .dataframe thead th {\n",
       "        text-align: right;\n",
       "    }\n",
       "</style>\n",
       "<table border=\"1\" class=\"dataframe\">\n",
       "  <thead>\n",
       "    <tr style=\"text-align: right;\">\n",
       "      <th></th>\n",
       "      <th>count</th>\n",
       "      <th>mean</th>\n",
       "      <th>std</th>\n",
       "      <th>min</th>\n",
       "      <th>25%</th>\n",
       "      <th>50%</th>\n",
       "      <th>75%</th>\n",
       "      <th>max</th>\n",
       "    </tr>\n",
       "  </thead>\n",
       "  <tbody>\n",
       "    <tr>\n",
       "      <th>sort_id</th>\n",
       "      <td>2302977.0</td>\n",
       "      <td>6.228853e+06</td>\n",
       "      <td>3.528902e+06</td>\n",
       "      <td>1.0</td>\n",
       "      <td>3169251.0</td>\n",
       "      <td>6512853.0</td>\n",
       "      <td>9276035.0</td>\n",
       "      <td>12041167.0</td>\n",
       "    </tr>\n",
       "    <tr>\n",
       "      <th>sensor_id</th>\n",
       "      <td>2302977.0</td>\n",
       "      <td>3.503299e+02</td>\n",
       "      <td>3.456451e+01</td>\n",
       "      <td>301.0</td>\n",
       "      <td>323.0</td>\n",
       "      <td>352.0</td>\n",
       "      <td>372.0</td>\n",
       "      <td>419.0</td>\n",
       "    </tr>\n",
       "    <tr>\n",
       "      <th>hpa_div_4</th>\n",
       "      <td>2302977.0</td>\n",
       "      <td>2.508628e+04</td>\n",
       "      <td>1.672818e+02</td>\n",
       "      <td>24024.0</td>\n",
       "      <td>24964.0</td>\n",
       "      <td>25067.0</td>\n",
       "      <td>25211.0</td>\n",
       "      <td>25781.0</td>\n",
       "    </tr>\n",
       "  </tbody>\n",
       "</table>\n",
       "</div>"
      ],
      "text/plain": [
       "               count          mean           std      min        25%  \\\n",
       "sort_id    2302977.0  6.228853e+06  3.528902e+06      1.0  3169251.0   \n",
       "sensor_id  2302977.0  3.503299e+02  3.456451e+01    301.0      323.0   \n",
       "hpa_div_4  2302977.0  2.508628e+04  1.672818e+02  24024.0    24964.0   \n",
       "\n",
       "                 50%        75%         max  \n",
       "sort_id    6512853.0  9276035.0  12041167.0  \n",
       "sensor_id      352.0      372.0       419.0  \n",
       "hpa_div_4    25067.0    25211.0     25781.0  "
      ]
     },
     "execution_count": 6,
     "metadata": {},
     "output_type": "execute_result"
    }
   ],
   "source": [
    "data.describe().T"
   ]
  },
  {
   "cell_type": "code",
   "execution_count": 7,
   "id": "6f537919-b485-451e-bea3-746180f38e7b",
   "metadata": {},
   "outputs": [
    {
     "data": {
      "text/plain": [
       "Index(['sort_id', 'date_d_m_y', 'time', 'sensor_id', 'sensor_type', 'temp_C',\n",
       "       'hpa_div_4', 'batterylevel', 'sensor_cycle'],\n",
       "      dtype='object')"
      ]
     },
     "execution_count": 7,
     "metadata": {},
     "output_type": "execute_result"
    }
   ],
   "source": [
    "data.columns"
   ]
  },
  {
   "cell_type": "code",
   "execution_count": 8,
   "id": "060dc503-2f94-4f0a-96e5-83d15ca608f0",
   "metadata": {},
   "outputs": [
    {
     "data": {
      "text/plain": [
       "(2302977, 9)"
      ]
     },
     "execution_count": 8,
     "metadata": {},
     "output_type": "execute_result"
    }
   ],
   "source": [
    "data.shape"
   ]
  },
  {
   "cell_type": "code",
   "execution_count": 9,
   "id": "14654a72-7085-4074-805d-f9b1a6a17cba",
   "metadata": {},
   "outputs": [
    {
     "data": {
      "text/plain": [
       "sort_id         0\n",
       "date_d_m_y      0\n",
       "time            0\n",
       "sensor_id       0\n",
       "sensor_type     0\n",
       "temp_C          0\n",
       "hpa_div_4       0\n",
       "batterylevel    0\n",
       "sensor_cycle    0\n",
       "dtype: int64"
      ]
     },
     "execution_count": 9,
     "metadata": {},
     "output_type": "execute_result"
    }
   ],
   "source": [
    "data.isnull().sum() # eksik veri yok"
   ]
  },
  {
   "cell_type": "code",
   "execution_count": 10,
   "id": "bb1586c5-e788-4269-91c6-9a764f7c4e12",
   "metadata": {},
   "outputs": [
    {
     "data": {
      "text/plain": [
       "RangeIndex(start=0, stop=2302977, step=1)"
      ]
     },
     "execution_count": 10,
     "metadata": {},
     "output_type": "execute_result"
    }
   ],
   "source": [
    "data.index.sort_values()"
   ]
  },
  {
   "cell_type": "code",
   "execution_count": 11,
   "id": "a21888a0-f928-4c86-9f76-71b73b8f237a",
   "metadata": {},
   "outputs": [
    {
     "data": {
      "text/plain": [
       "1213"
      ]
     },
     "execution_count": 11,
     "metadata": {},
     "output_type": "execute_result"
    }
   ],
   "source": [
    "data[\"hpa_div_4\"].nunique()"
   ]
  },
  {
   "cell_type": "code",
   "execution_count": 12,
   "id": "a069274c-311d-49ab-a745-94cf0a64dc35",
   "metadata": {},
   "outputs": [
    {
     "data": {
      "text/plain": [
       "58"
      ]
     },
     "execution_count": 12,
     "metadata": {},
     "output_type": "execute_result"
    }
   ],
   "source": [
    "data[\"sensor_id\"].nunique()"
   ]
  },
  {
   "cell_type": "code",
   "execution_count": 13,
   "id": "b60b3438-58a1-4833-a060-1f4fda7e921b",
   "metadata": {},
   "outputs": [
    {
     "data": {
      "text/plain": [
       "0          B\n",
       "1          B\n",
       "2          B\n",
       "3          B\n",
       "4          B\n",
       "          ..\n",
       "2302972    B\n",
       "2302973    B\n",
       "2302974    B\n",
       "2302975    B\n",
       "2302976    B\n",
       "Name: sensor_type, Length: 2302977, dtype: object"
      ]
     },
     "execution_count": 13,
     "metadata": {},
     "output_type": "execute_result"
    }
   ],
   "source": [
    "data[\"sensor_type\"]"
   ]
  },
  {
   "cell_type": "code",
   "execution_count": 14,
   "id": "984a8130-0575-4c4a-8e62-a9d684c1b1aa",
   "metadata": {},
   "outputs": [
    {
     "data": {
      "text/plain": [
       "1718"
      ]
     },
     "execution_count": 14,
     "metadata": {},
     "output_type": "execute_result"
    }
   ],
   "source": [
    "data[\"batterylevel\"].nunique()"
   ]
  },
  {
   "cell_type": "code",
   "execution_count": 15,
   "id": "e3d93bbb-6920-40e6-826c-bf8209af46e7",
   "metadata": {},
   "outputs": [
    {
     "data": {
      "text/plain": [
       "20002"
      ]
     },
     "execution_count": 15,
     "metadata": {},
     "output_type": "execute_result"
    }
   ],
   "source": [
    "data[\"sensor_cycle\"].nunique()"
   ]
  },
  {
   "cell_type": "code",
   "execution_count": 16,
   "id": "1d9e2876-705f-4293-ac3b-4b9fcfc1da72",
   "metadata": {},
   "outputs": [
    {
     "data": {
      "text/html": [
       "<div>\n",
       "<style scoped>\n",
       "    .dataframe tbody tr th:only-of-type {\n",
       "        vertical-align: middle;\n",
       "    }\n",
       "\n",
       "    .dataframe tbody tr th {\n",
       "        vertical-align: top;\n",
       "    }\n",
       "\n",
       "    .dataframe thead th {\n",
       "        text-align: right;\n",
       "    }\n",
       "</style>\n",
       "<table border=\"1\" class=\"dataframe\">\n",
       "  <thead>\n",
       "    <tr style=\"text-align: right;\">\n",
       "      <th></th>\n",
       "      <th>sort_id</th>\n",
       "      <th>date_d_m_y</th>\n",
       "      <th>time</th>\n",
       "      <th>sensor_id</th>\n",
       "      <th>sensor_type</th>\n",
       "      <th>temp_C</th>\n",
       "      <th>hpa_div_4</th>\n",
       "      <th>batterylevel</th>\n",
       "      <th>sensor_cycle</th>\n",
       "    </tr>\n",
       "  </thead>\n",
       "  <tbody>\n",
       "    <tr>\n",
       "      <th>0</th>\n",
       "      <td>1</td>\n",
       "      <td>2016-02-05</td>\n",
       "      <td>13:01:06</td>\n",
       "      <td>310</td>\n",
       "      <td>B</td>\n",
       "      <td>1612</td>\n",
       "      <td>24861</td>\n",
       "      <td>0</td>\n",
       "      <td>66</td>\n",
       "    </tr>\n",
       "    <tr>\n",
       "      <th>1</th>\n",
       "      <td>3</td>\n",
       "      <td>2016-02-05</td>\n",
       "      <td>13:01:16</td>\n",
       "      <td>306</td>\n",
       "      <td>B</td>\n",
       "      <td>1737</td>\n",
       "      <td>24865</td>\n",
       "      <td>0</td>\n",
       "      <td>69</td>\n",
       "    </tr>\n",
       "    <tr>\n",
       "      <th>2</th>\n",
       "      <td>6</td>\n",
       "      <td>2016-02-05</td>\n",
       "      <td>13:02:40</td>\n",
       "      <td>368</td>\n",
       "      <td>B</td>\n",
       "      <td>1941</td>\n",
       "      <td>24842</td>\n",
       "      <td>0</td>\n",
       "      <td>78</td>\n",
       "    </tr>\n",
       "    <tr>\n",
       "      <th>3</th>\n",
       "      <td>12</td>\n",
       "      <td>2016-02-05</td>\n",
       "      <td>13:03:32</td>\n",
       "      <td>367</td>\n",
       "      <td>B</td>\n",
       "      <td>1811</td>\n",
       "      <td>24834</td>\n",
       "      <td>0</td>\n",
       "      <td>78</td>\n",
       "    </tr>\n",
       "    <tr>\n",
       "      <th>4</th>\n",
       "      <td>20</td>\n",
       "      <td>2016-02-05</td>\n",
       "      <td>13:04:13</td>\n",
       "      <td>365</td>\n",
       "      <td>B</td>\n",
       "      <td>1577</td>\n",
       "      <td>24842</td>\n",
       "      <td>0</td>\n",
       "      <td>75</td>\n",
       "    </tr>\n",
       "    <tr>\n",
       "      <th>...</th>\n",
       "      <td>...</td>\n",
       "      <td>...</td>\n",
       "      <td>...</td>\n",
       "      <td>...</td>\n",
       "      <td>...</td>\n",
       "      <td>...</td>\n",
       "      <td>...</td>\n",
       "      <td>...</td>\n",
       "      <td>...</td>\n",
       "    </tr>\n",
       "    <tr>\n",
       "      <th>2302972</th>\n",
       "      <td>12040414</td>\n",
       "      <td>2017-03-16</td>\n",
       "      <td>21:56:13</td>\n",
       "      <td>384</td>\n",
       "      <td>B</td>\n",
       "      <td>400</td>\n",
       "      <td>25217</td>\n",
       "      <td>905</td>\n",
       "      <td>66</td>\n",
       "    </tr>\n",
       "    <tr>\n",
       "      <th>2302973</th>\n",
       "      <td>12040586</td>\n",
       "      <td>2017-03-16</td>\n",
       "      <td>22:01:43</td>\n",
       "      <td>384</td>\n",
       "      <td>B</td>\n",
       "      <td>396</td>\n",
       "      <td>25215</td>\n",
       "      <td>905</td>\n",
       "      <td>69</td>\n",
       "    </tr>\n",
       "    <tr>\n",
       "      <th>2302974</th>\n",
       "      <td>12040777</td>\n",
       "      <td>2017-03-16</td>\n",
       "      <td>22:07:13</td>\n",
       "      <td>384</td>\n",
       "      <td>B</td>\n",
       "      <td>393</td>\n",
       "      <td>25213</td>\n",
       "      <td>905</td>\n",
       "      <td>72</td>\n",
       "    </tr>\n",
       "    <tr>\n",
       "      <th>2302975</th>\n",
       "      <td>12040969</td>\n",
       "      <td>2017-03-16</td>\n",
       "      <td>22:12:44</td>\n",
       "      <td>384</td>\n",
       "      <td>B</td>\n",
       "      <td>390</td>\n",
       "      <td>25215</td>\n",
       "      <td>905</td>\n",
       "      <td>75</td>\n",
       "    </tr>\n",
       "    <tr>\n",
       "      <th>2302976</th>\n",
       "      <td>12041167</td>\n",
       "      <td>2017-03-16</td>\n",
       "      <td>22:18:14</td>\n",
       "      <td>384</td>\n",
       "      <td>B</td>\n",
       "      <td>384</td>\n",
       "      <td>25214</td>\n",
       "      <td>905</td>\n",
       "      <td>78</td>\n",
       "    </tr>\n",
       "  </tbody>\n",
       "</table>\n",
       "<p>2302977 rows × 9 columns</p>\n",
       "</div>"
      ],
      "text/plain": [
       "          sort_id date_d_m_y      time  sensor_id sensor_type temp_C  \\\n",
       "0               1 2016-02-05  13:01:06        310           B   1612   \n",
       "1               3 2016-02-05  13:01:16        306           B   1737   \n",
       "2               6 2016-02-05  13:02:40        368           B   1941   \n",
       "3              12 2016-02-05  13:03:32        367           B   1811   \n",
       "4              20 2016-02-05  13:04:13        365           B   1577   \n",
       "...           ...        ...       ...        ...         ...    ...   \n",
       "2302972  12040414 2017-03-16  21:56:13        384           B    400   \n",
       "2302973  12040586 2017-03-16  22:01:43        384           B    396   \n",
       "2302974  12040777 2017-03-16  22:07:13        384           B    393   \n",
       "2302975  12040969 2017-03-16  22:12:44        384           B    390   \n",
       "2302976  12041167 2017-03-16  22:18:14        384           B    384   \n",
       "\n",
       "         hpa_div_4 batterylevel sensor_cycle  \n",
       "0            24861            0           66  \n",
       "1            24865            0           69  \n",
       "2            24842            0           78  \n",
       "3            24834            0           78  \n",
       "4            24842            0           75  \n",
       "...            ...          ...          ...  \n",
       "2302972      25217          905           66  \n",
       "2302973      25215          905           69  \n",
       "2302974      25213          905           72  \n",
       "2302975      25215          905           75  \n",
       "2302976      25214          905           78  \n",
       "\n",
       "[2302977 rows x 9 columns]"
      ]
     },
     "execution_count": 16,
     "metadata": {},
     "output_type": "execute_result"
    }
   ],
   "source": [
    "data['date_d_m_y'] = pd.to_datetime(data['date_d_m_y'], format='%d.%m.%Y')\n",
    "data\n",
    "\n",
    "\n"
   ]
  },
  {
   "cell_type": "code",
   "execution_count": 17,
   "id": "fd2c5874-2e52-4149-86ee-5100e484b045",
   "metadata": {},
   "outputs": [
    {
     "data": {
      "text/plain": [
       "Timestamp('2016-02-05 00:00:00')"
      ]
     },
     "execution_count": 17,
     "metadata": {},
     "output_type": "execute_result"
    }
   ],
   "source": [
    "data[\"date_d_m_y\"].min()"
   ]
  },
  {
   "cell_type": "code",
   "execution_count": 18,
   "id": "a36ab73d-32fd-41e7-916c-884930cfba1c",
   "metadata": {},
   "outputs": [
    {
     "data": {
      "text/plain": [
       "Timestamp('2017-03-16 00:00:00')"
      ]
     },
     "execution_count": 18,
     "metadata": {},
     "output_type": "execute_result"
    }
   ],
   "source": [
    "data[\"date_d_m_y\"].max()"
   ]
  },
  {
   "cell_type": "code",
   "execution_count": 19,
   "id": "9e1b605c-7c94-4280-9d05-a588cfa20fc9",
   "metadata": {},
   "outputs": [
    {
     "data": {
      "text/html": [
       "<div>\n",
       "<style scoped>\n",
       "    .dataframe tbody tr th:only-of-type {\n",
       "        vertical-align: middle;\n",
       "    }\n",
       "\n",
       "    .dataframe tbody tr th {\n",
       "        vertical-align: top;\n",
       "    }\n",
       "\n",
       "    .dataframe thead th {\n",
       "        text-align: right;\n",
       "    }\n",
       "</style>\n",
       "<table border=\"1\" class=\"dataframe\">\n",
       "  <thead>\n",
       "    <tr style=\"text-align: right;\">\n",
       "      <th></th>\n",
       "      <th>sort_id</th>\n",
       "      <th>date_d_m_y</th>\n",
       "      <th>time</th>\n",
       "      <th>sensor_id</th>\n",
       "      <th>sensor_type</th>\n",
       "      <th>temp_C</th>\n",
       "      <th>hpa_div_4</th>\n",
       "      <th>batterylevel</th>\n",
       "      <th>sensor_cycle</th>\n",
       "    </tr>\n",
       "  </thead>\n",
       "  <tbody>\n",
       "    <tr>\n",
       "      <th>1380480</th>\n",
       "      <td>7615082</td>\n",
       "      <td>2016-11-17</td>\n",
       "      <td>10:43:43</td>\n",
       "      <td>301</td>\n",
       "      <td>B</td>\n",
       "      <td>1115</td>\n",
       "      <td>25283</td>\n",
       "      <td>901</td>\n",
       "      <td>6134</td>\n",
       "    </tr>\n",
       "    <tr>\n",
       "      <th>196591</th>\n",
       "      <td>911383</td>\n",
       "      <td>2016-05-26</td>\n",
       "      <td>14:20:16</td>\n",
       "      <td>301</td>\n",
       "      <td>B</td>\n",
       "      <td>3959</td>\n",
       "      <td>24898</td>\n",
       "      <td>0</td>\n",
       "      <td>4662</td>\n",
       "    </tr>\n",
       "    <tr>\n",
       "      <th>1955875</th>\n",
       "      <td>11195631</td>\n",
       "      <td>2017-02-21</td>\n",
       "      <td>19:27:26</td>\n",
       "      <td>301</td>\n",
       "      <td>B</td>\n",
       "      <td>1051</td>\n",
       "      <td>25037</td>\n",
       "      <td>878</td>\n",
       "      <td>9334</td>\n",
       "    </tr>\n",
       "    <tr>\n",
       "      <th>1200171</th>\n",
       "      <td>6750815</td>\n",
       "      <td>2016-11-01</td>\n",
       "      <td>02:13:55</td>\n",
       "      <td>301</td>\n",
       "      <td>B</td>\n",
       "      <td>301</td>\n",
       "      <td>25184</td>\n",
       "      <td>908</td>\n",
       "      <td>3762</td>\n",
       "    </tr>\n",
       "    <tr>\n",
       "      <th>64420</th>\n",
       "      <td>282385</td>\n",
       "      <td>2016-03-10</td>\n",
       "      <td>13:16:31</td>\n",
       "      <td>301</td>\n",
       "      <td>B</td>\n",
       "      <td>2669</td>\n",
       "      <td>24805</td>\n",
       "      <td>0</td>\n",
       "      <td>6726</td>\n",
       "    </tr>\n",
       "    <tr>\n",
       "      <th>...</th>\n",
       "      <td>...</td>\n",
       "      <td>...</td>\n",
       "      <td>...</td>\n",
       "      <td>...</td>\n",
       "      <td>...</td>\n",
       "      <td>...</td>\n",
       "      <td>...</td>\n",
       "      <td>...</td>\n",
       "      <td>...</td>\n",
       "    </tr>\n",
       "    <tr>\n",
       "      <th>2058982</th>\n",
       "      <td>11781278</td>\n",
       "      <td>2017-03-11</td>\n",
       "      <td>04:14:33</td>\n",
       "      <td>419</td>\n",
       "      <td>B</td>\n",
       "      <td>1469</td>\n",
       "      <td>24734</td>\n",
       "      <td>984</td>\n",
       "      <td>549</td>\n",
       "    </tr>\n",
       "    <tr>\n",
       "      <th>825141</th>\n",
       "      <td>4705525</td>\n",
       "      <td>2016-09-18</td>\n",
       "      <td>20:39:36</td>\n",
       "      <td>419</td>\n",
       "      <td>B</td>\n",
       "      <td>3424</td>\n",
       "      <td>24918</td>\n",
       "      <td>1013</td>\n",
       "      <td>8764</td>\n",
       "    </tr>\n",
       "    <tr>\n",
       "      <th>1350828</th>\n",
       "      <td>7473452</td>\n",
       "      <td>2016-11-14</td>\n",
       "      <td>18:44:23</td>\n",
       "      <td>419</td>\n",
       "      <td>B</td>\n",
       "      <td>1773</td>\n",
       "      <td>25316</td>\n",
       "      <td>1004</td>\n",
       "      <td>6725</td>\n",
       "    </tr>\n",
       "    <tr>\n",
       "      <th>1350863</th>\n",
       "      <td>7473636</td>\n",
       "      <td>2016-11-14</td>\n",
       "      <td>18:49:30</td>\n",
       "      <td>419</td>\n",
       "      <td>B</td>\n",
       "      <td>1768</td>\n",
       "      <td>25319</td>\n",
       "      <td>1004</td>\n",
       "      <td>6728</td>\n",
       "    </tr>\n",
       "    <tr>\n",
       "      <th>1388784</th>\n",
       "      <td>7654897</td>\n",
       "      <td>2016-11-18</td>\n",
       "      <td>04:36:42</td>\n",
       "      <td>419</td>\n",
       "      <td>B</td>\n",
       "      <td>676</td>\n",
       "      <td>25296</td>\n",
       "      <td>1014</td>\n",
       "      <td>9614</td>\n",
       "    </tr>\n",
       "  </tbody>\n",
       "</table>\n",
       "<p>2302977 rows × 9 columns</p>\n",
       "</div>"
      ],
      "text/plain": [
       "          sort_id date_d_m_y      time  sensor_id sensor_type temp_C  \\\n",
       "1380480   7615082 2016-11-17  10:43:43        301           B   1115   \n",
       "196591     911383 2016-05-26  14:20:16        301           B   3959   \n",
       "1955875  11195631 2017-02-21  19:27:26        301           B   1051   \n",
       "1200171   6750815 2016-11-01  02:13:55        301           B    301   \n",
       "64420      282385 2016-03-10  13:16:31        301           B   2669   \n",
       "...           ...        ...       ...        ...         ...    ...   \n",
       "2058982  11781278 2017-03-11  04:14:33        419           B   1469   \n",
       "825141    4705525 2016-09-18  20:39:36        419           B   3424   \n",
       "1350828   7473452 2016-11-14  18:44:23        419           B   1773   \n",
       "1350863   7473636 2016-11-14  18:49:30        419           B   1768   \n",
       "1388784   7654897 2016-11-18  04:36:42        419           B    676   \n",
       "\n",
       "         hpa_div_4 batterylevel sensor_cycle  \n",
       "1380480      25283          901         6134  \n",
       "196591       24898            0         4662  \n",
       "1955875      25037          878         9334  \n",
       "1200171      25184          908         3762  \n",
       "64420        24805            0         6726  \n",
       "...            ...          ...          ...  \n",
       "2058982      24734          984          549  \n",
       "825141       24918         1013         8764  \n",
       "1350828      25316         1004         6725  \n",
       "1350863      25319         1004         6728  \n",
       "1388784      25296         1014         9614  \n",
       "\n",
       "[2302977 rows x 9 columns]"
      ]
     },
     "execution_count": 19,
     "metadata": {},
     "output_type": "execute_result"
    }
   ],
   "source": [
    "data.sort_values(by=[\"sensor_id\"], ascending=True, inplace=True)\n",
    "data"
   ]
  },
  {
   "cell_type": "code",
   "execution_count": 20,
   "id": "ca79352f-7cfc-4a2a-8147-e79500c06868",
   "metadata": {},
   "outputs": [
    {
     "data": {
      "text/plain": [
       "1380480    25283\n",
       "196591     24898\n",
       "1955875    25037\n",
       "1200171    25184\n",
       "64420      24805\n",
       "           ...  \n",
       "2058982    24734\n",
       "825141     24918\n",
       "1350828    25316\n",
       "1350863    25319\n",
       "1388784    25296\n",
       "Name: hpa_div_4, Length: 2302977, dtype: int64"
      ]
     },
     "execution_count": 20,
     "metadata": {},
     "output_type": "execute_result"
    }
   ],
   "source": [
    "data.groupby('sort_id').agg(\"hpa_div_4\").head()"
   ]
  },
  {
   "cell_type": "code",
   "execution_count": 21,
   "id": "aaa35100-89d9-4bb4-aee9-384d51632f7f",
   "metadata": {},
   "outputs": [
    {
     "name": "stdout",
     "output_type": "stream",
     "text": [
      "Initial Missing Values:\n",
      "sort_id         0\n",
      "date_d_m_y      0\n",
      "time            0\n",
      "sensor_id       0\n",
      "sensor_type     0\n",
      "temp_C          0\n",
      "hpa_div_4       0\n",
      "batterylevel    0\n",
      "sensor_cycle    0\n",
      "dtype: int64\n"
     ]
    }
   ],
   "source": [
    "print(\"Initial Missing Values:\")\n",
    "print(data.isnull().sum())"
   ]
  },
  {
   "cell_type": "code",
   "execution_count": 22,
   "id": "a398d8e0-d41f-4350-85d3-3d7127aee72d",
   "metadata": {},
   "outputs": [],
   "source": [
    "#locally weighted algorithm\n",
    "def kernel(point, xmat, k):\n",
    "    m, n = np.shape(xmat)\n",
    "    weights = np.asmatrix(np.eye(m))\n",
    "    for j in range(m):\n",
    "        diff = point - xmat[j, 1]  # Use xmat[j, 1] to get the scalar value\n",
    "        weights[j, j] = np.exp(diff ** 2 / (-2.0 * k ** 2))\n",
    "    return weights\n"
   ]
  },
  {
   "cell_type": "code",
   "execution_count": 23,
   "id": "99c60ae1-9e69-44fb-8e28-d478619b0da0",
   "metadata": {},
   "outputs": [],
   "source": [
    "def local_weight(point, xmat, ymat, k, lmbda=0.01):\n",
    "    weights = kernel(point, xmat, k)\n",
    "    xTx = xmat.T * (weights * xmat)\n",
    "    reg_matrix = lmbda * np.eye(xTx.shape[0])\n",
    "    # Ensure xTx + reg_matrix is square\n",
    "    xTx_reg = xTx + reg_matrix\n",
    "    W = np.linalg.inv(xTx_reg) * (xmat.T * (weights * ymat))\n",
    "    # Use [1, point] for intercept and point\n",
    "    point_with_intercept = np.array([1, point])\n",
    "    return float(np.dot(point_with_intercept, W))"
   ]
  },
  {
   "cell_type": "code",
   "execution_count": 24,
   "id": "5f2c87c2",
   "metadata": {},
   "outputs": [],
   "source": [
    "def local_weighted_regression(xmat, ymat, k, lmbda=0.01):\n",
    "    m, n = np.shape(xmat)\n",
    "    ypred = np.zeros(m)\n",
    "    for i in range(m):\n",
    "        # Pass scalar temperature value\n",
    "        ypred[i] = local_weight(xmat[i, 1], xmat, ymat, k, lmbda)\n",
    "    return ypred\n"
   ]
  },
  {
   "cell_type": "code",
   "execution_count": 25,
   "id": "3aa75301",
   "metadata": {},
   "outputs": [],
   "source": [
    "data = pd.DataFrame({\n",
    "    'temp_C': [1612, 1737, 1941, 1811, 1577, 1684, 1554, 1643, 1435, 1550],\n",
    "    'hpa_div_4': [24861, 24865, 24842, 24834, 24842, 24850, 24866, 24832, 24838, 24847]\n",
    "})\n"
   ]
  },
  {
   "cell_type": "code",
   "execution_count": 26,
   "id": "6d43d309-8c0b-4810-839b-643cdfd38891",
   "metadata": {},
   "outputs": [],
   "source": [
    "# Preparing data\n",
    "x = np.asmatrix(data['temp_C']).T\n",
    "y = np.asmatrix(data['hpa_div_4']).T\n"
   ]
  },
  {
   "cell_type": "code",
   "execution_count": 27,
   "id": "64ce6a71-cc0a-4ea7-a1f8-4ff7a113a88c",
   "metadata": {},
   "outputs": [],
   "source": [
    "m = len(x)\n",
    "one = np.asmatrix(np.ones(m)).T\n",
    "xmat = np.hstack((one, x))"
   ]
  },
  {
   "cell_type": "code",
   "execution_count": 28,
   "id": "b6172b70-af5d-45d0-908a-d1a6f9d98e51",
   "metadata": {},
   "outputs": [
    {
     "name": "stderr",
     "output_type": "stream",
     "text": [
      "C:\\Users\\Mahanthesh\\AppData\\Local\\Temp\\ipykernel_4800\\1779949656.py:10: DeprecationWarning: Conversion of an array with ndim > 0 to a scalar is deprecated, and will error in future. Ensure you extract a single element from your array before performing this operation. (Deprecated NumPy 1.25.)\n",
      "  return float(np.dot(point_with_intercept, W))\n"
     ]
    }
   ],
   "source": [
    "# Apply LWR with ridge regularization\n",
    "k = 1.0  # bandwidth parameter\n",
    "lmbda = 0.01  # regularization parameter\n",
    "ypred = local_weighted_regression(xmat, y, k, lmbda)"
   ]
  },
  {
   "cell_type": "code",
   "execution_count": 29,
   "id": "d3eb1c3d-fe8a-4b05-86b0-1fc5151b04ee",
   "metadata": {},
   "outputs": [],
   "source": [
    "# Plotting\n",
    "sort_index = x[:, 0].argsort(0)\n",
    "x_sort = x[sort_index][:, 0]\n"
   ]
  },
  {
   "cell_type": "code",
   "execution_count": 30,
   "id": "72ed2c3b-98d2-4ea4-9af9-0ed3c91f4d49",
   "metadata": {},
   "outputs": [
    {
     "data": {
      "image/png": "[encoded data removed]",
      "text/plain": [
       "<Figure size 640x480 with 1 Axes>"
      ]
     },
     "metadata": {},
     "output_type": "display_data"
    }
   ],
   "source": [
    "fig = plt.figure()\n",
    "ax = fig.add_subplot(1, 1, 1)\n",
    "ax.scatter(data['temp_C'], data['hpa_div_4'], color='blue')\n",
    "ax.plot(x_sort, ypred[sort_index], color='red', linewidth=2)\n",
    "plt.xlabel('Temperature (C)')\n",
    "plt.ylabel('hpa_div_4')\n",
    "plt.title('Locally Weighted Regression')\n",
    "plt.show()"
   ]
  },
  {
   "cell_type": "code",
   "execution_count": 31,
   "id": "36fa76fb-1d97-4c36-abf0-3b31b2b8adb9",
   "metadata": {},
   "outputs": [],
   "source": [
    "#FFNN algorithm\n",
    "# Example data\n",
    "data = pd.DataFrame({\n",
    "    'temp_C': [1612, 1737, 1941, 1811, 1577, 1684, 1554, 1643, 1435, 1550],\n",
    "    'hpa_div_4': [24861, 24865, 24842, 24834, 24842, 24850, 24866, 24832, 24838, 24847]\n",
    "})"
   ]
  },
  {
   "cell_type": "code",
   "execution_count": 32,
   "id": "cd7b556e",
   "metadata": {},
   "outputs": [],
   "source": [
    "# Preparing data\n",
    "X = data[['temp_C']].values\n",
    "y = data['hpa_div_4'].values"
   ]
  },
  {
   "cell_type": "code",
   "execution_count": 33,
   "id": "d3e34b0a",
   "metadata": {},
   "outputs": [],
   "source": [
    "# Standardize the features\n",
    "scaler = StandardScaler()\n",
    "X_scaled = scaler.fit_transform(X)"
   ]
  },
  {
   "cell_type": "code",
   "execution_count": 34,
   "id": "d5de30c8",
   "metadata": {},
   "outputs": [],
   "source": [
    "# Split data into training and testing sets\n",
    "X_train, X_test, y_train, y_test = train_test_split(X_scaled, y, test_size=0.2, random_state=42)\n"
   ]
  },
  {
   "cell_type": "code",
   "execution_count": 35,
   "id": "cc330e2c",
   "metadata": {},
   "outputs": [
    {
     "name": "stderr",
     "output_type": "stream",
     "text": [
      "c:\\Users\\Mahanthesh\\AppData\\Local\\Programs\\Python\\Python312\\Lib\\site-packages\\keras\\src\\layers\\core\\dense.py:87: UserWarning: Do not pass an `input_shape`/`input_dim` argument to a layer. When using Sequential models, prefer using an `Input(shape)` object as the first layer in the model instead.\n",
      "  super().__init__(activity_regularizer=activity_regularizer, **kwargs)\n"
     ]
    }
   ],
   "source": [
    "# Define the model\n",
    "model = Sequential()\n",
    "model.add(Dense(64, input_dim=1, activation='relu'))  # Input layer with 64 neurons\n",
    "model.add(Dense(32, activation='relu'))  # Hidden layer with 32 neurons\n",
    "model.add(Dense(1))  # Output layer with 1 neuron (regression output)"
   ]
  },
  {
   "cell_type": "code",
   "execution_count": 36,
   "id": "94abdc97",
   "metadata": {},
   "outputs": [],
   "source": [
    "# Compile the model\n",
    "model.compile(optimizer='adam', loss='mean_squared_error')"
   ]
  },
  {
   "cell_type": "code",
   "execution_count": 37,
   "id": "033804ca",
   "metadata": {},
   "outputs": [
    {
     "name": "stdout",
     "output_type": "stream",
     "text": [
      "Epoch 1/100\n",
      "\u001b[1m6/6\u001b[0m \u001b[32m━━━━━━━━━━━━━━━━━━━━\u001b[0m\u001b[37m\u001b[0m \u001b[1m6s\u001b[0m 137ms/step - loss: 617293888.0000 - val_loss: 617517312.0000\n",
      "Epoch 2/100\n",
      "\u001b[1m6/6\u001b[0m \u001b[32m━━━━━━━━━━━━━━━━━━━━\u001b[0m\u001b[37m\u001b[0m \u001b[1m1s\u001b[0m 28ms/step - loss: 617119552.0000 - val_loss: 617512448.0000\n",
      "Epoch 3/100\n",
      "\u001b[1m6/6\u001b[0m \u001b[32m━━━━━━━━━━━━━━━━━━━━\u001b[0m\u001b[37m\u001b[0m \u001b[1m0s\u001b[0m 20ms/step - loss: 617264064.0000 - val_loss: 617507520.0000\n",
      "Epoch 4/100\n",
      "\u001b[1m6/6\u001b[0m \u001b[32m━━━━━━━━━━━━━━━━━━━━\u001b[0m\u001b[37m\u001b[0m \u001b[1m0s\u001b[0m 20ms/step - loss: 617154176.0000 - val_loss: 617503104.0000\n",
      "Epoch 5/100\n",
      "\u001b[1m6/6\u001b[0m \u001b[32m━━━━━━━━━━━━━━━━━━━━\u001b[0m\u001b[37m\u001b[0m \u001b[1m0s\u001b[0m 26ms/step - loss: 617492224.0000 - val_loss: 617498112.0000\n",
      "Epoch 6/100\n",
      "\u001b[1m6/6\u001b[0m \u001b[32m━━━━━━━━━━━━━━━━━━━━\u001b[0m\u001b[37m\u001b[0m \u001b[1m0s\u001b[0m 32ms/step - loss: 617477248.0000 - val_loss: 617492864.0000\n",
      "Epoch 7/100\n",
      "\u001b[1m6/6\u001b[0m \u001b[32m━━━━━━━━━━━━━━━━━━━━\u001b[0m\u001b[37m\u001b[0m \u001b[1m0s\u001b[0m 24ms/step - loss: 617152576.0000 - val_loss: 617486784.0000\n",
      "Epoch 8/100\n",
      "\u001b[1m6/6\u001b[0m \u001b[32m━━━━━━━━━━━━━━━━━━━━\u001b[0m\u001b[37m\u001b[0m \u001b[1m0s\u001b[0m 27ms/step - loss: 617102912.0000 - val_loss: 617480448.0000\n",
      "Epoch 9/100\n",
      "\u001b[1m6/6\u001b[0m \u001b[32m━━━━━━━━━━━━━━━━━━━━\u001b[0m\u001b[37m\u001b[0m \u001b[1m0s\u001b[0m 22ms/step - loss: 617412352.0000 - val_loss: 617472768.0000\n",
      "Epoch 10/100\n",
      "\u001b[1m6/6\u001b[0m \u001b[32m━━━━━━━━━━━━━━━━━━━━\u001b[0m\u001b[37m\u001b[0m \u001b[1m1s\u001b[0m 41ms/step - loss: 617160896.0000 - val_loss: 617463488.0000\n",
      "Epoch 11/100\n",
      "\u001b[1m6/6\u001b[0m \u001b[32m━━━━━━━━━━━━━━━━━━━━\u001b[0m\u001b[37m\u001b[0m \u001b[1m0s\u001b[0m 30ms/step - loss: 617327616.0000 - val_loss: 617453248.0000\n",
      "Epoch 12/100\n",
      "\u001b[1m6/6\u001b[0m \u001b[32m━━━━━━━━━━━━━━━━━━━━\u001b[0m\u001b[37m\u001b[0m \u001b[1m0s\u001b[0m 23ms/step - loss: 617075264.0000 - val_loss: 617440512.0000\n",
      "Epoch 13/100\n",
      "\u001b[1m6/6\u001b[0m \u001b[32m━━━━━━━━━━━━━━━━━━━━\u001b[0m\u001b[37m\u001b[0m \u001b[1m0s\u001b[0m 25ms/step - loss: 617234240.0000 - val_loss: 617425984.0000\n",
      "Epoch 14/100\n",
      "\u001b[1m6/6\u001b[0m \u001b[32m━━━━━━━━━━━━━━━━━━━━\u001b[0m\u001b[37m\u001b[0m \u001b[1m0s\u001b[0m 28ms/step - loss: 617442560.0000 - val_loss: 617409472.0000\n",
      "Epoch 15/100\n",
      "\u001b[1m6/6\u001b[0m \u001b[32m━━━━━━━━━━━━━━━━━━━━\u001b[0m\u001b[37m\u001b[0m \u001b[1m0s\u001b[0m 24ms/step - loss: 617129600.0000 - val_loss: 617390528.0000\n",
      "Epoch 16/100\n",
      "\u001b[1m6/6\u001b[0m \u001b[32m━━━━━━━━━━━━━━━━━━━━\u001b[0m\u001b[37m\u001b[0m \u001b[1m0s\u001b[0m 36ms/step - loss: 616956416.0000 - val_loss: 617369536.0000\n",
      "Epoch 17/100\n",
      "\u001b[1m6/6\u001b[0m \u001b[32m━━━━━━━━━━━━━━━━━━━━\u001b[0m\u001b[37m\u001b[0m \u001b[1m0s\u001b[0m 27ms/step - loss: 617176896.0000 - val_loss: 617346496.0000\n",
      "Epoch 18/100\n",
      "\u001b[1m6/6\u001b[0m \u001b[32m━━━━━━━━━━━━━━━━━━━━\u001b[0m\u001b[37m\u001b[0m \u001b[1m0s\u001b[0m 18ms/step - loss: 617252992.0000 - val_loss: 617319552.0000\n",
      "Epoch 19/100\n",
      "\u001b[1m6/6\u001b[0m \u001b[32m━━━━━━━━━━━━━━━━━━━━\u001b[0m\u001b[37m\u001b[0m \u001b[1m0s\u001b[0m 28ms/step - loss: 617035904.0000 - val_loss: 617289472.0000\n",
      "Epoch 20/100\n",
      "\u001b[1m6/6\u001b[0m \u001b[32m━━━━━━━━━━━━━━━━━━━━\u001b[0m\u001b[37m\u001b[0m \u001b[1m0s\u001b[0m 34ms/step - loss: 617206976.0000 - val_loss: 617256320.0000\n",
      "Epoch 21/100\n",
      "\u001b[1m6/6\u001b[0m \u001b[32m━━━━━━━━━━━━━━━━━━━━\u001b[0m\u001b[37m\u001b[0m \u001b[1m0s\u001b[0m 18ms/step - loss: 617153472.0000 - val_loss: 617219584.0000\n",
      "Epoch 22/100\n",
      "\u001b[1m6/6\u001b[0m \u001b[32m━━━━━━━━━━━━━━━━━━━━\u001b[0m\u001b[37m\u001b[0m \u001b[1m0s\u001b[0m 19ms/step - loss: 616801088.0000 - val_loss: 617177984.0000\n",
      "Epoch 23/100\n",
      "\u001b[1m6/6\u001b[0m \u001b[32m━━━━━━━━━━━━━━━━━━━━\u001b[0m\u001b[37m\u001b[0m \u001b[1m0s\u001b[0m 20ms/step - loss: 616881920.0000 - val_loss: 617132032.0000\n",
      "Epoch 24/100\n",
      "\u001b[1m6/6\u001b[0m \u001b[32m━━━━━━━━━━━━━━━━━━━━\u001b[0m\u001b[37m\u001b[0m \u001b[1m0s\u001b[0m 26ms/step - loss: 616858048.0000 - val_loss: 617080576.0000\n",
      "Epoch 25/100\n",
      "\u001b[1m6/6\u001b[0m \u001b[32m━━━━━━━━━━━━━━━━━━━━\u001b[0m\u001b[37m\u001b[0m \u001b[1m0s\u001b[0m 22ms/step - loss: 617003712.0000 - val_loss: 617024064.0000\n",
      "Epoch 26/100\n",
      "\u001b[1m6/6\u001b[0m \u001b[32m━━━━━━━━━━━━━━━━━━━━\u001b[0m\u001b[37m\u001b[0m \u001b[1m0s\u001b[0m 18ms/step - loss: 616819008.0000 - val_loss: 616962048.0000\n",
      "Epoch 27/100\n",
      "\u001b[1m6/6\u001b[0m \u001b[32m━━━━━━━━━━━━━━━━━━━━\u001b[0m\u001b[37m\u001b[0m \u001b[1m0s\u001b[0m 17ms/step - loss: 616910336.0000 - val_loss: 616892160.0000\n",
      "Epoch 28/100\n",
      "\u001b[1m6/6\u001b[0m \u001b[32m━━━━━━━━━━━━━━━━━━━━\u001b[0m\u001b[37m\u001b[0m \u001b[1m0s\u001b[0m 20ms/step - loss: 616540416.0000 - val_loss: 616816384.0000\n",
      "Epoch 29/100\n",
      "\u001b[1m6/6\u001b[0m \u001b[32m━━━━━━━━━━━━━━━━━━━━\u001b[0m\u001b[37m\u001b[0m \u001b[1m0s\u001b[0m 19ms/step - loss: 616810624.0000 - val_loss: 616735744.0000\n",
      "Epoch 30/100\n",
      "\u001b[1m6/6\u001b[0m \u001b[32m━━━━━━━━━━━━━━━━━━━━\u001b[0m\u001b[37m\u001b[0m \u001b[1m0s\u001b[0m 16ms/step - loss: 616662336.0000 - val_loss: 616646464.0000\n",
      "Epoch 31/100\n",
      "\u001b[1m6/6\u001b[0m \u001b[32m━━━━━━━━━━━━━━━━━━━━\u001b[0m\u001b[37m\u001b[0m \u001b[1m0s\u001b[0m 22ms/step - loss: 616303680.0000 - val_loss: 616550400.0000\n",
      "Epoch 32/100\n",
      "\u001b[1m6/6\u001b[0m \u001b[32m━━━━━━━━━━━━━━━━━━━━\u001b[0m\u001b[37m\u001b[0m \u001b[1m0s\u001b[0m 30ms/step - loss: 616482560.0000 - val_loss: 616447232.0000\n",
      "Epoch 33/100\n",
      "\u001b[1m6/6\u001b[0m \u001b[32m━━━━━━━━━━━━━━━━━━━━\u001b[0m\u001b[37m\u001b[0m \u001b[1m0s\u001b[0m 18ms/step - loss: 615941696.0000 - val_loss: 616332672.0000\n",
      "Epoch 34/100\n",
      "\u001b[1m6/6\u001b[0m \u001b[32m━━━━━━━━━━━━━━━━━━━━\u001b[0m\u001b[37m\u001b[0m \u001b[1m0s\u001b[0m 20ms/step - loss: 616006784.0000 - val_loss: 616212160.0000\n",
      "Epoch 35/100\n",
      "\u001b[1m6/6\u001b[0m \u001b[32m━━━━━━━━━━━━━━━━━━━━\u001b[0m\u001b[37m\u001b[0m \u001b[1m0s\u001b[0m 17ms/step - loss: 616055744.0000 - val_loss: 616083840.0000\n",
      "Epoch 36/100\n",
      "\u001b[1m6/6\u001b[0m \u001b[32m━━━━━━━━━━━━━━━━━━━━\u001b[0m\u001b[37m\u001b[0m \u001b[1m0s\u001b[0m 17ms/step - loss: 615642560.0000 - val_loss: 615945472.0000\n",
      "Epoch 37/100\n",
      "\u001b[1m6/6\u001b[0m \u001b[32m━━━━━━━━━━━━━━━━━━━━\u001b[0m\u001b[37m\u001b[0m \u001b[1m0s\u001b[0m 19ms/step - loss: 615364672.0000 - val_loss: 615794752.0000\n",
      "Epoch 38/100\n",
      "\u001b[1m6/6\u001b[0m \u001b[32m━━━━━━━━━━━━━━━━━━━━\u001b[0m\u001b[37m\u001b[0m \u001b[1m0s\u001b[0m 17ms/step - loss: 615395200.0000 - val_loss: 615637888.0000\n",
      "Epoch 39/100\n",
      "\u001b[1m6/6\u001b[0m \u001b[32m━━━━━━━━━━━━━━━━━━━━\u001b[0m\u001b[37m\u001b[0m \u001b[1m0s\u001b[0m 20ms/step - loss: 615508160.0000 - val_loss: 615470464.0000\n",
      "Epoch 40/100\n",
      "\u001b[1m6/6\u001b[0m \u001b[32m━━━━━━━━━━━━━━━━━━━━\u001b[0m\u001b[37m\u001b[0m \u001b[1m0s\u001b[0m 17ms/step - loss: 615316352.0000 - val_loss: 615291392.0000\n",
      "Epoch 41/100\n",
      "\u001b[1m6/6\u001b[0m \u001b[32m━━━━━━━━━━━━━━━━━━━━\u001b[0m\u001b[37m\u001b[0m \u001b[1m0s\u001b[0m 22ms/step - loss: 614558592.0000 - val_loss: 615097600.0000\n",
      "Epoch 42/100\n",
      "\u001b[1m6/6\u001b[0m \u001b[32m━━━━━━━━━━━━━━━━━━━━\u001b[0m\u001b[37m\u001b[0m \u001b[1m0s\u001b[0m 23ms/step - loss: 614583296.0000 - val_loss: 614893056.0000\n",
      "Epoch 43/100\n",
      "\u001b[1m6/6\u001b[0m \u001b[32m━━━━━━━━━━━━━━━━━━━━\u001b[0m\u001b[37m\u001b[0m \u001b[1m0s\u001b[0m 20ms/step - loss: 614019072.0000 - val_loss: 614677376.0000\n",
      "Epoch 44/100\n",
      "\u001b[1m6/6\u001b[0m \u001b[32m━━━━━━━━━━━━━━━━━━━━\u001b[0m\u001b[37m\u001b[0m \u001b[1m0s\u001b[0m 18ms/step - loss: 614003520.0000 - val_loss: 614453120.0000\n",
      "Epoch 45/100\n",
      "\u001b[1m6/6\u001b[0m \u001b[32m━━━━━━━━━━━━━━━━━━━━\u001b[0m\u001b[37m\u001b[0m \u001b[1m0s\u001b[0m 25ms/step - loss: 613724864.0000 - val_loss: 614214400.0000\n",
      "Epoch 46/100\n",
      "\u001b[1m6/6\u001b[0m \u001b[32m━━━━━━━━━━━━━━━━━━━━\u001b[0m\u001b[37m\u001b[0m \u001b[1m0s\u001b[0m 22ms/step - loss: 613857664.0000 - val_loss: 613965312.0000\n",
      "Epoch 47/100\n",
      "\u001b[1m6/6\u001b[0m \u001b[32m━━━━━━━━━━━━━━━━━━━━\u001b[0m\u001b[37m\u001b[0m \u001b[1m0s\u001b[0m 24ms/step - loss: 613223488.0000 - val_loss: 613701376.0000\n",
      "Epoch 48/100\n",
      "\u001b[1m6/6\u001b[0m \u001b[32m━━━━━━━━━━━━━━━━━━━━\u001b[0m\u001b[37m\u001b[0m \u001b[1m0s\u001b[0m 28ms/step - loss: 612529920.0000 - val_loss: 613417600.0000\n",
      "Epoch 49/100\n",
      "\u001b[1m6/6\u001b[0m \u001b[32m━━━━━━━━━━━━━━━━━━━━\u001b[0m\u001b[37m\u001b[0m \u001b[1m0s\u001b[0m 23ms/step - loss: 612828288.0000 - val_loss: 613127616.0000\n",
      "Epoch 50/100\n",
      "\u001b[1m6/6\u001b[0m \u001b[32m━━━━━━━━━━━━━━━━━━━━\u001b[0m\u001b[37m\u001b[0m \u001b[1m0s\u001b[0m 20ms/step - loss: 612418688.0000 - val_loss: 612818176.0000\n",
      "Epoch 51/100\n",
      "\u001b[1m6/6\u001b[0m \u001b[32m━━━━━━━━━━━━━━━━━━━━\u001b[0m\u001b[37m\u001b[0m \u001b[1m0s\u001b[0m 25ms/step - loss: 612426176.0000 - val_loss: 612500608.0000\n",
      "Epoch 52/100\n",
      "\u001b[1m6/6\u001b[0m \u001b[32m━━━━━━━━━━━━━━━━━━━━\u001b[0m\u001b[37m\u001b[0m \u001b[1m0s\u001b[0m 25ms/step - loss: 611560448.0000 - val_loss: 612163840.0000\n",
      "Epoch 53/100\n",
      "\u001b[1m6/6\u001b[0m \u001b[32m━━━━━━━━━━━━━━━━━━━━\u001b[0m\u001b[37m\u001b[0m \u001b[1m0s\u001b[0m 22ms/step - loss: 610952448.0000 - val_loss: 611808576.0000\n",
      "Epoch 54/100\n",
      "\u001b[1m6/6\u001b[0m \u001b[32m━━━━━━━━━━━━━━━━━━━━\u001b[0m\u001b[37m\u001b[0m \u001b[1m0s\u001b[0m 23ms/step - loss: 610738112.0000 - val_loss: 611443200.0000\n",
      "Epoch 55/100\n",
      "\u001b[1m6/6\u001b[0m \u001b[32m━━━━━━━━━━━━━━━━━━━━\u001b[0m\u001b[37m\u001b[0m \u001b[1m0s\u001b[0m 23ms/step - loss: 610868352.0000 - val_loss: 611063616.0000\n",
      "Epoch 56/100\n",
      "\u001b[1m6/6\u001b[0m \u001b[32m━━━━━━━━━━━━━━━━━━━━\u001b[0m\u001b[37m\u001b[0m \u001b[1m0s\u001b[0m 20ms/step - loss: 610337088.0000 - val_loss: 610666240.0000\n",
      "Epoch 57/100\n",
      "\u001b[1m6/6\u001b[0m \u001b[32m━━━━━━━━━━━━━━━━━━━━\u001b[0m\u001b[37m\u001b[0m \u001b[1m0s\u001b[0m 36ms/step - loss: 609623488.0000 - val_loss: 610250752.0000\n",
      "Epoch 58/100\n",
      "\u001b[1m6/6\u001b[0m \u001b[32m━━━━━━━━━━━━━━━━━━━━\u001b[0m\u001b[37m\u001b[0m \u001b[1m0s\u001b[0m 34ms/step - loss: 608835840.0000 - val_loss: 609817472.0000\n",
      "Epoch 59/100\n",
      "\u001b[1m6/6\u001b[0m \u001b[32m━━━━━━━━━━━━━━━━━━━━\u001b[0m\u001b[37m\u001b[0m \u001b[1m0s\u001b[0m 22ms/step - loss: 608348992.0000 - val_loss: 609368960.0000\n",
      "Epoch 60/100\n",
      "\u001b[1m6/6\u001b[0m \u001b[32m━━━━━━━━━━━━━━━━━━━━\u001b[0m\u001b[37m\u001b[0m \u001b[1m0s\u001b[0m 36ms/step - loss: 607368192.0000 - val_loss: 608898432.0000\n",
      "Epoch 61/100\n",
      "\u001b[1m6/6\u001b[0m \u001b[32m━━━━━━━━━━━━━━━━━━━━\u001b[0m\u001b[37m\u001b[0m \u001b[1m0s\u001b[0m 21ms/step - loss: 607338752.0000 - val_loss: 608416896.0000\n",
      "Epoch 62/100\n",
      "\u001b[1m6/6\u001b[0m \u001b[32m━━━━━━━━━━━━━━━━━━━━\u001b[0m\u001b[37m\u001b[0m \u001b[1m0s\u001b[0m 21ms/step - loss: 606351360.0000 - val_loss: 607912832.0000\n",
      "Epoch 63/100\n",
      "\u001b[1m6/6\u001b[0m \u001b[32m━━━━━━━━━━━━━━━━━━━━\u001b[0m\u001b[37m\u001b[0m \u001b[1m0s\u001b[0m 23ms/step - loss: 607462272.0000 - val_loss: 607401472.0000\n",
      "Epoch 64/100\n",
      "\u001b[1m6/6\u001b[0m \u001b[32m━━━━━━━━━━━━━━━━━━━━\u001b[0m\u001b[37m\u001b[0m \u001b[1m0s\u001b[0m 22ms/step - loss: 605946496.0000 - val_loss: 606866176.0000\n",
      "Epoch 65/100\n",
      "\u001b[1m6/6\u001b[0m \u001b[32m━━━━━━━━━━━━━━━━━━━━\u001b[0m\u001b[37m\u001b[0m \u001b[1m0s\u001b[0m 20ms/step - loss: 605009856.0000 - val_loss: 606304128.0000\n",
      "Epoch 66/100\n",
      "\u001b[1m6/6\u001b[0m \u001b[32m━━━━━━━━━━━━━━━━━━━━\u001b[0m\u001b[37m\u001b[0m \u001b[1m0s\u001b[0m 27ms/step - loss: 603979200.0000 - val_loss: 605727680.0000\n",
      "Epoch 67/100\n",
      "\u001b[1m6/6\u001b[0m \u001b[32m━━━━━━━━━━━━━━━━━━━━\u001b[0m\u001b[37m\u001b[0m \u001b[1m0s\u001b[0m 23ms/step - loss: 604551744.0000 - val_loss: 605139712.0000\n",
      "Epoch 68/100\n",
      "\u001b[1m6/6\u001b[0m \u001b[32m━━━━━━━━━━━━━━━━━━━━\u001b[0m\u001b[37m\u001b[0m \u001b[1m0s\u001b[0m 23ms/step - loss: 604846976.0000 - val_loss: 604533568.0000\n",
      "Epoch 69/100\n",
      "\u001b[1m6/6\u001b[0m \u001b[32m━━━━━━━━━━━━━━━━━━━━\u001b[0m\u001b[37m\u001b[0m \u001b[1m0s\u001b[0m 24ms/step - loss: 601763712.0000 - val_loss: 603892352.0000\n",
      "Epoch 70/100\n",
      "\u001b[1m6/6\u001b[0m \u001b[32m━━━━━━━━━━━━━━━━━━━━\u001b[0m\u001b[37m\u001b[0m \u001b[1m0s\u001b[0m 27ms/step - loss: 602718912.0000 - val_loss: 603246464.0000\n",
      "Epoch 71/100\n",
      "\u001b[1m6/6\u001b[0m \u001b[32m━━━━━━━━━━━━━━━━━━━━\u001b[0m\u001b[37m\u001b[0m \u001b[1m0s\u001b[0m 22ms/step - loss: 601029888.0000 - val_loss: 602575616.0000\n",
      "Epoch 72/100\n",
      "\u001b[1m6/6\u001b[0m \u001b[32m━━━━━━━━━━━━━━━━━━━━\u001b[0m\u001b[37m\u001b[0m \u001b[1m0s\u001b[0m 20ms/step - loss: 601866304.0000 - val_loss: 601890240.0000\n",
      "Epoch 73/100\n",
      "\u001b[1m6/6\u001b[0m \u001b[32m━━━━━━━━━━━━━━━━━━━━\u001b[0m\u001b[37m\u001b[0m \u001b[1m0s\u001b[0m 21ms/step - loss: 601112000.0000 - val_loss: 601182400.0000\n",
      "Epoch 74/100\n",
      "\u001b[1m6/6\u001b[0m \u001b[32m━━━━━━━━━━━━━━━━━━━━\u001b[0m\u001b[37m\u001b[0m \u001b[1m0s\u001b[0m 21ms/step - loss: 599685888.0000 - val_loss: 600451712.0000\n",
      "Epoch 75/100\n",
      "\u001b[1m6/6\u001b[0m \u001b[32m━━━━━━━━━━━━━━━━━━━━\u001b[0m\u001b[37m\u001b[0m \u001b[1m0s\u001b[0m 22ms/step - loss: 598116672.0000 - val_loss: 599689728.0000\n",
      "Epoch 76/100\n",
      "\u001b[1m6/6\u001b[0m \u001b[32m━━━━━━━━━━━━━━━━━━━━\u001b[0m\u001b[37m\u001b[0m \u001b[1m0s\u001b[0m 21ms/step - loss: 597023488.0000 - val_loss: 598921408.0000\n",
      "Epoch 77/100\n",
      "\u001b[1m6/6\u001b[0m \u001b[32m━━━━━━━━━━━━━━━━━━━━\u001b[0m\u001b[37m\u001b[0m \u001b[1m0s\u001b[0m 19ms/step - loss: 596421120.0000 - val_loss: 598131904.0000\n",
      "Epoch 78/100\n",
      "\u001b[1m6/6\u001b[0m \u001b[32m━━━━━━━━━━━━━━━━━━━━\u001b[0m\u001b[37m\u001b[0m \u001b[1m0s\u001b[0m 21ms/step - loss: 596259136.0000 - val_loss: 597317824.0000\n",
      "Epoch 79/100\n",
      "\u001b[1m6/6\u001b[0m \u001b[32m━━━━━━━━━━━━━━━━━━━━\u001b[0m\u001b[37m\u001b[0m \u001b[1m0s\u001b[0m 19ms/step - loss: 596873856.0000 - val_loss: 596487424.0000\n",
      "Epoch 80/100\n",
      "\u001b[1m6/6\u001b[0m \u001b[32m━━━━━━━━━━━━━━━━━━━━\u001b[0m\u001b[37m\u001b[0m \u001b[1m0s\u001b[0m 18ms/step - loss: 595004032.0000 - val_loss: 595632384.0000\n",
      "Epoch 81/100\n",
      "\u001b[1m6/6\u001b[0m \u001b[32m━━━━━━━━━━━━━━━━━━━━\u001b[0m\u001b[37m\u001b[0m \u001b[1m0s\u001b[0m 21ms/step - loss: 591364288.0000 - val_loss: 594739712.0000\n",
      "Epoch 82/100\n",
      "\u001b[1m6/6\u001b[0m \u001b[32m━━━━━━━━━━━━━━━━━━━━\u001b[0m\u001b[37m\u001b[0m \u001b[1m0s\u001b[0m 18ms/step - loss: 592503424.0000 - val_loss: 593840000.0000\n",
      "Epoch 83/100\n",
      "\u001b[1m6/6\u001b[0m \u001b[32m━━━━━━━━━━━━━━━━━━━━\u001b[0m\u001b[37m\u001b[0m \u001b[1m0s\u001b[0m 18ms/step - loss: 590820032.0000 - val_loss: 592919232.0000\n",
      "Epoch 84/100\n",
      "\u001b[1m6/6\u001b[0m \u001b[32m━━━━━━━━━━━━━━━━━━━━\u001b[0m\u001b[37m\u001b[0m \u001b[1m0s\u001b[0m 21ms/step - loss: 592436416.0000 - val_loss: 591983680.0000\n",
      "Epoch 85/100\n",
      "\u001b[1m6/6\u001b[0m \u001b[32m━━━━━━━━━━━━━━━━━━━━\u001b[0m\u001b[37m\u001b[0m \u001b[1m0s\u001b[0m 21ms/step - loss: 590968064.0000 - val_loss: 591018752.0000\n",
      "Epoch 86/100\n",
      "\u001b[1m6/6\u001b[0m \u001b[32m━━━━━━━━━━━━━━━━━━━━\u001b[0m\u001b[37m\u001b[0m \u001b[1m0s\u001b[0m 21ms/step - loss: 588287488.0000 - val_loss: 590021120.0000\n",
      "Epoch 87/100\n",
      "\u001b[1m6/6\u001b[0m \u001b[32m━━━━━━━━━━━━━━━━━━━━\u001b[0m\u001b[37m\u001b[0m \u001b[1m0s\u001b[0m 24ms/step - loss: 584515200.0000 - val_loss: 589004160.0000\n",
      "Epoch 88/100\n",
      "\u001b[1m6/6\u001b[0m \u001b[32m━━━━━━━━━━━━━━━━━━━━\u001b[0m\u001b[37m\u001b[0m \u001b[1m0s\u001b[0m 25ms/step - loss: 585885568.0000 - val_loss: 587969408.0000\n",
      "Epoch 89/100\n",
      "\u001b[1m6/6\u001b[0m \u001b[32m━━━━━━━━━━━━━━━━━━━━\u001b[0m\u001b[37m\u001b[0m \u001b[1m0s\u001b[0m 23ms/step - loss: 584691840.0000 - val_loss: 586914112.0000\n",
      "Epoch 90/100\n",
      "\u001b[1m6/6\u001b[0m \u001b[32m━━━━━━━━━━━━━━━━━━━━\u001b[0m\u001b[37m\u001b[0m \u001b[1m0s\u001b[0m 45ms/step - loss: 584467136.0000 - val_loss: 585836672.0000\n",
      "Epoch 91/100\n",
      "\u001b[1m6/6\u001b[0m \u001b[32m━━━━━━━━━━━━━━━━━━━━\u001b[0m\u001b[37m\u001b[0m \u001b[1m0s\u001b[0m 23ms/step - loss: 581946240.0000 - val_loss: 584725376.0000\n",
      "Epoch 92/100\n",
      "\u001b[1m6/6\u001b[0m \u001b[32m━━━━━━━━━━━━━━━━━━━━\u001b[0m\u001b[37m\u001b[0m \u001b[1m0s\u001b[0m 19ms/step - loss: 580012736.0000 - val_loss: 583601280.0000\n",
      "Epoch 93/100\n",
      "\u001b[1m6/6\u001b[0m \u001b[32m━━━━━━━━━━━━━━━━━━━━\u001b[0m\u001b[37m\u001b[0m \u001b[1m0s\u001b[0m 24ms/step - loss: 579653184.0000 - val_loss: 582452480.0000\n",
      "Epoch 94/100\n",
      "\u001b[1m6/6\u001b[0m \u001b[32m━━━━━━━━━━━━━━━━━━━━\u001b[0m\u001b[37m\u001b[0m \u001b[1m1s\u001b[0m 99ms/step - loss: 579195200.0000 - val_loss: 581283840.0000\n",
      "Epoch 95/100\n",
      "\u001b[1m6/6\u001b[0m \u001b[32m━━━━━━━━━━━━━━━━━━━━\u001b[0m\u001b[37m\u001b[0m \u001b[1m0s\u001b[0m 22ms/step - loss: 576814464.0000 - val_loss: 580091136.0000\n",
      "Epoch 96/100\n",
      "\u001b[1m6/6\u001b[0m \u001b[32m━━━━━━━━━━━━━━━━━━━━\u001b[0m\u001b[37m\u001b[0m \u001b[1m0s\u001b[0m 25ms/step - loss: 573186944.0000 - val_loss: 578860928.0000\n",
      "Epoch 97/100\n",
      "\u001b[1m6/6\u001b[0m \u001b[32m━━━━━━━━━━━━━━━━━━━━\u001b[0m\u001b[37m\u001b[0m \u001b[1m0s\u001b[0m 19ms/step - loss: 574032256.0000 - val_loss: 577613248.0000\n",
      "Epoch 98/100\n",
      "\u001b[1m6/6\u001b[0m \u001b[32m━━━━━━━━━━━━━━━━━━━━\u001b[0m\u001b[37m\u001b[0m \u001b[1m0s\u001b[0m 14ms/step - loss: 576658176.0000 - val_loss: 576362048.0000\n",
      "Epoch 99/100\n",
      "\u001b[1m6/6\u001b[0m \u001b[32m━━━━━━━━━━━━━━━━━━━━\u001b[0m\u001b[37m\u001b[0m \u001b[1m0s\u001b[0m 14ms/step - loss: 572208128.0000 - val_loss: 575073024.0000\n",
      "Epoch 100/100\n",
      "\u001b[1m6/6\u001b[0m \u001b[32m━━━━━━━━━━━━━━━━━━━━\u001b[0m\u001b[37m\u001b[0m \u001b[1m0s\u001b[0m 15ms/step - loss: 568256000.0000 - val_loss: 573739648.0000\n"
     ]
    }
   ],
   "source": [
    "# Train the model\n",
    "history = model.fit(X_train, y_train, epochs=100, batch_size=1, verbose=1, validation_split=0.2)\n"
   ]
  },
  {
   "cell_type": "code",
   "execution_count": 38,
   "id": "6a4dd1cf",
   "metadata": {},
   "outputs": [
    {
     "name": "stdout",
     "output_type": "stream",
     "text": [
      "Test Loss: 562432640.0\n"
     ]
    }
   ],
   "source": [
    "# Evaluate the model\n",
    "loss = model.evaluate(X_test, y_test, verbose=0)\n",
    "print(f\"Test Loss: {loss}\")"
   ]
  },
  {
   "cell_type": "code",
   "execution_count": 39,
   "id": "52ad75df",
   "metadata": {},
   "outputs": [
    {
     "name": "stdout",
     "output_type": "stream",
     "text": [
      "\u001b[1m1/1\u001b[0m \u001b[32m━━━━━━━━━━━━━━━━━━━━\u001b[0m\u001b[37m\u001b[0m \u001b[1m0s\u001b[0m 165ms/step\n"
     ]
    }
   ],
   "source": [
    "# Predict on new data\n",
    "ypred = model.predict(X_test)"
   ]
  },
  {
   "cell_type": "code",
   "execution_count": 40,
   "id": "15c02b58",
   "metadata": {},
   "outputs": [
    {
     "name": "stdout",
     "output_type": "stream",
     "text": [
      "Predictions:\n",
      "[[1522.2776]\n",
      " [ 756.0332]]\n"
     ]
    }
   ],
   "source": [
    "# Print predictions\n",
    "print(\"Predictions:\")\n",
    "print(ypred)"
   ]
  },
  {
   "cell_type": "code",
   "execution_count": null,
   "id": "5ea0dc63",
   "metadata": {},
   "outputs": [],
   "source": []
  }
 ],
 "metadata": {
  "kernelspec": {
   "display_name": "Python 3 (ipykernel)",
   "language": "python",
   "name": "python3"
  },
  "language_info": {
   "codemirror_mode": {
    "name": "ipython",
    "version": 3
   },
   "file_extension": ".py",
   "mimetype": "text/x-python",
   "name": "python",
   "nbconvert_exporter": "python",
   "pygments_lexer": "ipython3",
   "version": "3.12.4"
  }
 },
 "nbformat": 4,
 "nbformat_minor": 5
}
